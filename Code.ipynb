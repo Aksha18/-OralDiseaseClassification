{
 "cells": [
  {
   "cell_type": "code",
   "execution_count": 1,
   "metadata": {},
   "outputs": [],
   "source": [
    "#importing required libraries\n",
    "import numpy as np\n",
    "import pandas as pd\n",
    "import os\n",
    "import cv2\n",
    "from sklearn.model_selection import train_test_split\n",
    "from sklearn.metrics import classification_report , confusion_matrix\n",
    "from tensorflow.keras.models import Sequential\n",
    "from tensorflow.keras.layers import Conv2D, MaxPooling2D , Flatten, Dense, Dropout\n",
    "from tensorflow.keras.utils import to_categorical\n",
    "from tensorflow.keras.preprocessing.image import ImageDataGenerator\n"
   ]
  },
  {
   "cell_type": "code",
   "execution_count": 3,
   "metadata": {},
   "outputs": [],
   "source": [
    "dataset_dir = \"E:\\OralDisease\\data\\TRAIN\"\n",
    "categories = [\"Caries\",\"Gingivitis\"]\n",
    "\n",
    "#Resize dimensions\n",
    "IMG_HEIGHT , IMG_WIDTH = 128 , 128\n",
    "\n",
    "def load_data(dataset_dir,categories):\n",
    "    data =[]\n",
    "    labels=[]\n",
    "\n",
    "    for i ,category in enumerate(categories):\n",
    "        path = os.path.join(dataset_dir,category)\n",
    "        for img in os.listdir(path):\n",
    "            img_path = os.path.join(path,img)\n",
    "            try:\n",
    "              image = cv2.imread(img_path)\n",
    "              image = cv2.resize(image,(IMG_HEIGHT,IMG_WIDTH))\n",
    "              data.append(image)\n",
    "              labels.append(i)\n",
    "\n",
    "            except Exception as e:\n",
    "                print(f\"Error loading image {img_path}: {e}\")\n",
    "\n",
    "    return np.array(data) , np.array(labels)\n",
    "\n",
    "data,labels = load_data(dataset_dir,categories)"
   ]
  },
  {
   "cell_type": "code",
   "execution_count": 4,
   "metadata": {},
   "outputs": [],
   "source": [
    "#normalization\n",
    "data = data/255.0"
   ]
  },
  {
   "cell_type": "code",
   "execution_count": 5,
   "metadata": {},
   "outputs": [],
   "source": [
    "x_train, x_test , y_train , y_test = train_test_split(data,labels,test_size=0.2,random_state=42)\n",
    "y_train = to_categorical(y_train, num_classes=2)\n",
    "y_test = to_categorical(y_test , num_classes=2)"
   ]
  },
  {
   "cell_type": "code",
   "execution_count": 6,
   "metadata": {},
   "outputs": [],
   "source": [
    "datagen = ImageDataGenerator(rotation_range=20,width_shift_range=0.1,height_shift_range=0.1,zoom_range=0.2,horizontal_flip=True)\n"
   ]
  },
  {
   "cell_type": "code",
   "execution_count": 7,
   "metadata": {},
   "outputs": [],
   "source": [
    "datagen.fit(x_train)"
   ]
  },
  {
   "cell_type": "code",
   "execution_count": 8,
   "metadata": {},
   "outputs": [
    {
     "name": "stderr",
     "output_type": "stream",
     "text": [
      "e:\\OralDisease\\oenv\\Lib\\site-packages\\keras\\src\\layers\\convolutional\\base_conv.py:107: UserWarning: Do not pass an `input_shape`/`input_dim` argument to a layer. When using Sequential models, prefer using an `Input(shape)` object as the first layer in the model instead.\n",
      "  super().__init__(activity_regularizer=activity_regularizer, **kwargs)\n"
     ]
    },
    {
     "data": {
      "text/html": [
       "<pre style=\"white-space:pre;overflow-x:auto;line-height:normal;font-family:Menlo,'DejaVu Sans Mono',consolas,'Courier New',monospace\"><span style=\"font-weight: bold\">Model: \"sequential\"</span>\n",
       "</pre>\n"
      ],
      "text/plain": [
       "\u001b[1mModel: \"sequential\"\u001b[0m\n"
      ]
     },
     "metadata": {},
     "output_type": "display_data"
    },
    {
     "data": {
      "text/html": [
       "<pre style=\"white-space:pre;overflow-x:auto;line-height:normal;font-family:Menlo,'DejaVu Sans Mono',consolas,'Courier New',monospace\">┏━━━━━━━━━━━━━━━━━━━━━━━━━━━━━━━━━┳━━━━━━━━━━━━━━━━━━━━━━━━┳━━━━━━━━━━━━━━━┓\n",
       "┃<span style=\"font-weight: bold\"> Layer (type)                    </span>┃<span style=\"font-weight: bold\"> Output Shape           </span>┃<span style=\"font-weight: bold\">       Param # </span>┃\n",
       "┡━━━━━━━━━━━━━━━━━━━━━━━━━━━━━━━━━╇━━━━━━━━━━━━━━━━━━━━━━━━╇━━━━━━━━━━━━━━━┩\n",
       "│ conv2d (<span style=\"color: #0087ff; text-decoration-color: #0087ff\">Conv2D</span>)                 │ (<span style=\"color: #00d7ff; text-decoration-color: #00d7ff\">None</span>, <span style=\"color: #00af00; text-decoration-color: #00af00\">126</span>, <span style=\"color: #00af00; text-decoration-color: #00af00\">126</span>, <span style=\"color: #00af00; text-decoration-color: #00af00\">32</span>)   │           <span style=\"color: #00af00; text-decoration-color: #00af00\">896</span> │\n",
       "├─────────────────────────────────┼────────────────────────┼───────────────┤\n",
       "│ max_pooling2d (<span style=\"color: #0087ff; text-decoration-color: #0087ff\">MaxPooling2D</span>)    │ (<span style=\"color: #00d7ff; text-decoration-color: #00d7ff\">None</span>, <span style=\"color: #00af00; text-decoration-color: #00af00\">63</span>, <span style=\"color: #00af00; text-decoration-color: #00af00\">63</span>, <span style=\"color: #00af00; text-decoration-color: #00af00\">32</span>)     │             <span style=\"color: #00af00; text-decoration-color: #00af00\">0</span> │\n",
       "├─────────────────────────────────┼────────────────────────┼───────────────┤\n",
       "│ conv2d_1 (<span style=\"color: #0087ff; text-decoration-color: #0087ff\">Conv2D</span>)               │ (<span style=\"color: #00d7ff; text-decoration-color: #00d7ff\">None</span>, <span style=\"color: #00af00; text-decoration-color: #00af00\">61</span>, <span style=\"color: #00af00; text-decoration-color: #00af00\">61</span>, <span style=\"color: #00af00; text-decoration-color: #00af00\">64</span>)     │        <span style=\"color: #00af00; text-decoration-color: #00af00\">18,496</span> │\n",
       "├─────────────────────────────────┼────────────────────────┼───────────────┤\n",
       "│ max_pooling2d_1 (<span style=\"color: #0087ff; text-decoration-color: #0087ff\">MaxPooling2D</span>)  │ (<span style=\"color: #00d7ff; text-decoration-color: #00d7ff\">None</span>, <span style=\"color: #00af00; text-decoration-color: #00af00\">30</span>, <span style=\"color: #00af00; text-decoration-color: #00af00\">30</span>, <span style=\"color: #00af00; text-decoration-color: #00af00\">64</span>)     │             <span style=\"color: #00af00; text-decoration-color: #00af00\">0</span> │\n",
       "├─────────────────────────────────┼────────────────────────┼───────────────┤\n",
       "│ conv2d_2 (<span style=\"color: #0087ff; text-decoration-color: #0087ff\">Conv2D</span>)               │ (<span style=\"color: #00d7ff; text-decoration-color: #00d7ff\">None</span>, <span style=\"color: #00af00; text-decoration-color: #00af00\">28</span>, <span style=\"color: #00af00; text-decoration-color: #00af00\">28</span>, <span style=\"color: #00af00; text-decoration-color: #00af00\">128</span>)    │        <span style=\"color: #00af00; text-decoration-color: #00af00\">73,856</span> │\n",
       "├─────────────────────────────────┼────────────────────────┼───────────────┤\n",
       "│ max_pooling2d_2 (<span style=\"color: #0087ff; text-decoration-color: #0087ff\">MaxPooling2D</span>)  │ (<span style=\"color: #00d7ff; text-decoration-color: #00d7ff\">None</span>, <span style=\"color: #00af00; text-decoration-color: #00af00\">14</span>, <span style=\"color: #00af00; text-decoration-color: #00af00\">14</span>, <span style=\"color: #00af00; text-decoration-color: #00af00\">128</span>)    │             <span style=\"color: #00af00; text-decoration-color: #00af00\">0</span> │\n",
       "├─────────────────────────────────┼────────────────────────┼───────────────┤\n",
       "│ flatten (<span style=\"color: #0087ff; text-decoration-color: #0087ff\">Flatten</span>)               │ (<span style=\"color: #00d7ff; text-decoration-color: #00d7ff\">None</span>, <span style=\"color: #00af00; text-decoration-color: #00af00\">25088</span>)          │             <span style=\"color: #00af00; text-decoration-color: #00af00\">0</span> │\n",
       "├─────────────────────────────────┼────────────────────────┼───────────────┤\n",
       "│ dense (<span style=\"color: #0087ff; text-decoration-color: #0087ff\">Dense</span>)                   │ (<span style=\"color: #00d7ff; text-decoration-color: #00d7ff\">None</span>, <span style=\"color: #00af00; text-decoration-color: #00af00\">128</span>)            │     <span style=\"color: #00af00; text-decoration-color: #00af00\">3,211,392</span> │\n",
       "├─────────────────────────────────┼────────────────────────┼───────────────┤\n",
       "│ dropout (<span style=\"color: #0087ff; text-decoration-color: #0087ff\">Dropout</span>)               │ (<span style=\"color: #00d7ff; text-decoration-color: #00d7ff\">None</span>, <span style=\"color: #00af00; text-decoration-color: #00af00\">128</span>)            │             <span style=\"color: #00af00; text-decoration-color: #00af00\">0</span> │\n",
       "├─────────────────────────────────┼────────────────────────┼───────────────┤\n",
       "│ dense_1 (<span style=\"color: #0087ff; text-decoration-color: #0087ff\">Dense</span>)                 │ (<span style=\"color: #00d7ff; text-decoration-color: #00d7ff\">None</span>, <span style=\"color: #00af00; text-decoration-color: #00af00\">2</span>)              │           <span style=\"color: #00af00; text-decoration-color: #00af00\">258</span> │\n",
       "└─────────────────────────────────┴────────────────────────┴───────────────┘\n",
       "</pre>\n"
      ],
      "text/plain": [
       "┏━━━━━━━━━━━━━━━━━━━━━━━━━━━━━━━━━┳━━━━━━━━━━━━━━━━━━━━━━━━┳━━━━━━━━━━━━━━━┓\n",
       "┃\u001b[1m \u001b[0m\u001b[1mLayer (type)                   \u001b[0m\u001b[1m \u001b[0m┃\u001b[1m \u001b[0m\u001b[1mOutput Shape          \u001b[0m\u001b[1m \u001b[0m┃\u001b[1m \u001b[0m\u001b[1m      Param #\u001b[0m\u001b[1m \u001b[0m┃\n",
       "┡━━━━━━━━━━━━━━━━━━━━━━━━━━━━━━━━━╇━━━━━━━━━━━━━━━━━━━━━━━━╇━━━━━━━━━━━━━━━┩\n",
       "│ conv2d (\u001b[38;5;33mConv2D\u001b[0m)                 │ (\u001b[38;5;45mNone\u001b[0m, \u001b[38;5;34m126\u001b[0m, \u001b[38;5;34m126\u001b[0m, \u001b[38;5;34m32\u001b[0m)   │           \u001b[38;5;34m896\u001b[0m │\n",
       "├─────────────────────────────────┼────────────────────────┼───────────────┤\n",
       "│ max_pooling2d (\u001b[38;5;33mMaxPooling2D\u001b[0m)    │ (\u001b[38;5;45mNone\u001b[0m, \u001b[38;5;34m63\u001b[0m, \u001b[38;5;34m63\u001b[0m, \u001b[38;5;34m32\u001b[0m)     │             \u001b[38;5;34m0\u001b[0m │\n",
       "├─────────────────────────────────┼────────────────────────┼───────────────┤\n",
       "│ conv2d_1 (\u001b[38;5;33mConv2D\u001b[0m)               │ (\u001b[38;5;45mNone\u001b[0m, \u001b[38;5;34m61\u001b[0m, \u001b[38;5;34m61\u001b[0m, \u001b[38;5;34m64\u001b[0m)     │        \u001b[38;5;34m18,496\u001b[0m │\n",
       "├─────────────────────────────────┼────────────────────────┼───────────────┤\n",
       "│ max_pooling2d_1 (\u001b[38;5;33mMaxPooling2D\u001b[0m)  │ (\u001b[38;5;45mNone\u001b[0m, \u001b[38;5;34m30\u001b[0m, \u001b[38;5;34m30\u001b[0m, \u001b[38;5;34m64\u001b[0m)     │             \u001b[38;5;34m0\u001b[0m │\n",
       "├─────────────────────────────────┼────────────────────────┼───────────────┤\n",
       "│ conv2d_2 (\u001b[38;5;33mConv2D\u001b[0m)               │ (\u001b[38;5;45mNone\u001b[0m, \u001b[38;5;34m28\u001b[0m, \u001b[38;5;34m28\u001b[0m, \u001b[38;5;34m128\u001b[0m)    │        \u001b[38;5;34m73,856\u001b[0m │\n",
       "├─────────────────────────────────┼────────────────────────┼───────────────┤\n",
       "│ max_pooling2d_2 (\u001b[38;5;33mMaxPooling2D\u001b[0m)  │ (\u001b[38;5;45mNone\u001b[0m, \u001b[38;5;34m14\u001b[0m, \u001b[38;5;34m14\u001b[0m, \u001b[38;5;34m128\u001b[0m)    │             \u001b[38;5;34m0\u001b[0m │\n",
       "├─────────────────────────────────┼────────────────────────┼───────────────┤\n",
       "│ flatten (\u001b[38;5;33mFlatten\u001b[0m)               │ (\u001b[38;5;45mNone\u001b[0m, \u001b[38;5;34m25088\u001b[0m)          │             \u001b[38;5;34m0\u001b[0m │\n",
       "├─────────────────────────────────┼────────────────────────┼───────────────┤\n",
       "│ dense (\u001b[38;5;33mDense\u001b[0m)                   │ (\u001b[38;5;45mNone\u001b[0m, \u001b[38;5;34m128\u001b[0m)            │     \u001b[38;5;34m3,211,392\u001b[0m │\n",
       "├─────────────────────────────────┼────────────────────────┼───────────────┤\n",
       "│ dropout (\u001b[38;5;33mDropout\u001b[0m)               │ (\u001b[38;5;45mNone\u001b[0m, \u001b[38;5;34m128\u001b[0m)            │             \u001b[38;5;34m0\u001b[0m │\n",
       "├─────────────────────────────────┼────────────────────────┼───────────────┤\n",
       "│ dense_1 (\u001b[38;5;33mDense\u001b[0m)                 │ (\u001b[38;5;45mNone\u001b[0m, \u001b[38;5;34m2\u001b[0m)              │           \u001b[38;5;34m258\u001b[0m │\n",
       "└─────────────────────────────────┴────────────────────────┴───────────────┘\n"
      ]
     },
     "metadata": {},
     "output_type": "display_data"
    },
    {
     "data": {
      "text/html": [
       "<pre style=\"white-space:pre;overflow-x:auto;line-height:normal;font-family:Menlo,'DejaVu Sans Mono',consolas,'Courier New',monospace\"><span style=\"font-weight: bold\"> Total params: </span><span style=\"color: #00af00; text-decoration-color: #00af00\">3,304,898</span> (12.61 MB)\n",
       "</pre>\n"
      ],
      "text/plain": [
       "\u001b[1m Total params: \u001b[0m\u001b[38;5;34m3,304,898\u001b[0m (12.61 MB)\n"
      ]
     },
     "metadata": {},
     "output_type": "display_data"
    },
    {
     "data": {
      "text/html": [
       "<pre style=\"white-space:pre;overflow-x:auto;line-height:normal;font-family:Menlo,'DejaVu Sans Mono',consolas,'Courier New',monospace\"><span style=\"font-weight: bold\"> Trainable params: </span><span style=\"color: #00af00; text-decoration-color: #00af00\">3,304,898</span> (12.61 MB)\n",
       "</pre>\n"
      ],
      "text/plain": [
       "\u001b[1m Trainable params: \u001b[0m\u001b[38;5;34m3,304,898\u001b[0m (12.61 MB)\n"
      ]
     },
     "metadata": {},
     "output_type": "display_data"
    },
    {
     "data": {
      "text/html": [
       "<pre style=\"white-space:pre;overflow-x:auto;line-height:normal;font-family:Menlo,'DejaVu Sans Mono',consolas,'Courier New',monospace\"><span style=\"font-weight: bold\"> Non-trainable params: </span><span style=\"color: #00af00; text-decoration-color: #00af00\">0</span> (0.00 B)\n",
       "</pre>\n"
      ],
      "text/plain": [
       "\u001b[1m Non-trainable params: \u001b[0m\u001b[38;5;34m0\u001b[0m (0.00 B)\n"
      ]
     },
     "metadata": {},
     "output_type": "display_data"
    }
   ],
   "source": [
    "model = Sequential([\n",
    "    Conv2D(32, (3, 3), activation='relu', input_shape=(IMG_HEIGHT, IMG_WIDTH, 3)),\n",
    "    MaxPooling2D(pool_size=(2, 2)),\n",
    "    Conv2D(64, (3, 3), activation='relu'),\n",
    "    MaxPooling2D(pool_size=(2, 2)),\n",
    "    Conv2D(128, (3, 3), activation='relu'),\n",
    "    MaxPooling2D(pool_size=(2, 2)),\n",
    "    Flatten(),\n",
    "    Dense(128, activation='relu'),\n",
    "    Dropout(0.5),\n",
    "    Dense(2, activation='softmax')  # 2 classes: caries and gingivitis\n",
    "])\n",
    "model.compile(optimizer='adam', loss='categorical_crossentropy', metrics=['accuracy'])\n",
    "model.summary()\n"
   ]
  },
  {
   "cell_type": "code",
   "execution_count": 10,
   "metadata": {},
   "outputs": [
    {
     "name": "stderr",
     "output_type": "stream",
     "text": [
      "e:\\OralDisease\\oenv\\Lib\\site-packages\\keras\\src\\trainers\\data_adapters\\py_dataset_adapter.py:121: UserWarning: Your `PyDataset` class should call `super().__init__(**kwargs)` in its constructor. `**kwargs` can include `workers`, `use_multiprocessing`, `max_queue_size`. Do not pass these arguments to `fit()`, as they will be ignored.\n",
      "  self._warn_if_super_not_called()\n"
     ]
    },
    {
     "name": "stdout",
     "output_type": "stream",
     "text": [
      "Epoch 1/20\n",
      "\u001b[1m38/38\u001b[0m \u001b[32m━━━━━━━━━━━━━━━━━━━━\u001b[0m\u001b[37m\u001b[0m \u001b[1m21s\u001b[0m 472ms/step - accuracy: 0.5950 - loss: 0.7063 - val_accuracy: 0.7852 - val_loss: 0.4514\n",
      "Epoch 2/20\n",
      "\u001b[1m38/38\u001b[0m \u001b[32m━━━━━━━━━━━━━━━━━━━━\u001b[0m\u001b[37m\u001b[0m \u001b[1m22s\u001b[0m 570ms/step - accuracy: 0.7606 - loss: 0.4911 - val_accuracy: 0.9195 - val_loss: 0.3145\n",
      "Epoch 3/20\n",
      "\u001b[1m38/38\u001b[0m \u001b[32m━━━━━━━━━━━━━━━━━━━━\u001b[0m\u001b[37m\u001b[0m \u001b[1m18s\u001b[0m 461ms/step - accuracy: 0.8422 - loss: 0.3773 - val_accuracy: 0.9463 - val_loss: 0.2075\n",
      "Epoch 4/20\n",
      "\u001b[1m38/38\u001b[0m \u001b[32m━━━━━━━━━━━━━━━━━━━━\u001b[0m\u001b[37m\u001b[0m \u001b[1m19s\u001b[0m 501ms/step - accuracy: 0.8463 - loss: 0.3476 - val_accuracy: 0.8658 - val_loss: 0.3218\n",
      "Epoch 5/20\n",
      "\u001b[1m38/38\u001b[0m \u001b[32m━━━━━━━━━━━━━━━━━━━━\u001b[0m\u001b[37m\u001b[0m \u001b[1m19s\u001b[0m 486ms/step - accuracy: 0.8563 - loss: 0.3333 - val_accuracy: 0.9463 - val_loss: 0.1782\n",
      "Epoch 6/20\n",
      "\u001b[1m38/38\u001b[0m \u001b[32m━━━━━━━━━━━━━━━━━━━━\u001b[0m\u001b[37m\u001b[0m \u001b[1m20s\u001b[0m 515ms/step - accuracy: 0.8402 - loss: 0.3410 - val_accuracy: 0.9597 - val_loss: 0.1811\n",
      "Epoch 7/20\n",
      "\u001b[1m38/38\u001b[0m \u001b[32m━━━━━━━━━━━━━━━━━━━━\u001b[0m\u001b[37m\u001b[0m \u001b[1m20s\u001b[0m 511ms/step - accuracy: 0.8716 - loss: 0.3004 - val_accuracy: 0.9027 - val_loss: 0.2604\n",
      "Epoch 8/20\n",
      "\u001b[1m38/38\u001b[0m \u001b[32m━━━━━━━━━━━━━━━━━━━━\u001b[0m\u001b[37m\u001b[0m \u001b[1m19s\u001b[0m 484ms/step - accuracy: 0.8677 - loss: 0.3249 - val_accuracy: 0.9329 - val_loss: 0.2075\n",
      "Epoch 9/20\n",
      "\u001b[1m38/38\u001b[0m \u001b[32m━━━━━━━━━━━━━━━━━━━━\u001b[0m\u001b[37m\u001b[0m \u001b[1m18s\u001b[0m 471ms/step - accuracy: 0.8902 - loss: 0.2698 - val_accuracy: 0.9463 - val_loss: 0.1961\n",
      "Epoch 10/20\n",
      "\u001b[1m38/38\u001b[0m \u001b[32m━━━━━━━━━━━━━━━━━━━━\u001b[0m\u001b[37m\u001b[0m \u001b[1m18s\u001b[0m 458ms/step - accuracy: 0.8678 - loss: 0.2762 - val_accuracy: 0.9262 - val_loss: 0.2006\n",
      "Epoch 11/20\n",
      "\u001b[1m38/38\u001b[0m \u001b[32m━━━━━━━━━━━━━━━━━━━━\u001b[0m\u001b[37m\u001b[0m \u001b[1m19s\u001b[0m 494ms/step - accuracy: 0.8963 - loss: 0.2552 - val_accuracy: 0.9362 - val_loss: 0.1988\n",
      "Epoch 12/20\n",
      "\u001b[1m38/38\u001b[0m \u001b[32m━━━━━━━━━━━━━━━━━━━━\u001b[0m\u001b[37m\u001b[0m \u001b[1m19s\u001b[0m 485ms/step - accuracy: 0.8990 - loss: 0.2657 - val_accuracy: 0.9329 - val_loss: 0.1870\n",
      "Epoch 13/20\n",
      "\u001b[1m38/38\u001b[0m \u001b[32m━━━━━━━━━━━━━━━━━━━━\u001b[0m\u001b[37m\u001b[0m \u001b[1m26s\u001b[0m 674ms/step - accuracy: 0.9122 - loss: 0.2245 - val_accuracy: 0.9262 - val_loss: 0.1951\n",
      "Epoch 14/20\n",
      "\u001b[1m38/38\u001b[0m \u001b[32m━━━━━━━━━━━━━━━━━━━━\u001b[0m\u001b[37m\u001b[0m \u001b[1m17s\u001b[0m 453ms/step - accuracy: 0.8928 - loss: 0.2931 - val_accuracy: 0.9430 - val_loss: 0.1878\n",
      "Epoch 15/20\n",
      "\u001b[1m38/38\u001b[0m \u001b[32m━━━━━━━━━━━━━━━━━━━━\u001b[0m\u001b[37m\u001b[0m \u001b[1m17s\u001b[0m 455ms/step - accuracy: 0.9148 - loss: 0.2396 - val_accuracy: 0.9362 - val_loss: 0.1978\n",
      "Epoch 16/20\n",
      "\u001b[1m38/38\u001b[0m \u001b[32m━━━━━━━━━━━━━━━━━━━━\u001b[0m\u001b[37m\u001b[0m \u001b[1m18s\u001b[0m 481ms/step - accuracy: 0.9029 - loss: 0.2548 - val_accuracy: 0.9295 - val_loss: 0.1937\n",
      "Epoch 17/20\n",
      "\u001b[1m38/38\u001b[0m \u001b[32m━━━━━━━━━━━━━━━━━━━━\u001b[0m\u001b[37m\u001b[0m \u001b[1m18s\u001b[0m 475ms/step - accuracy: 0.9052 - loss: 0.2338 - val_accuracy: 0.9094 - val_loss: 0.2430\n",
      "Epoch 18/20\n",
      "\u001b[1m38/38\u001b[0m \u001b[32m━━━━━━━━━━━━━━━━━━━━\u001b[0m\u001b[37m\u001b[0m \u001b[1m18s\u001b[0m 473ms/step - accuracy: 0.8848 - loss: 0.2603 - val_accuracy: 0.9128 - val_loss: 0.2701\n",
      "Epoch 19/20\n",
      "\u001b[1m38/38\u001b[0m \u001b[32m━━━━━━━━━━━━━━━━━━━━\u001b[0m\u001b[37m\u001b[0m \u001b[1m19s\u001b[0m 509ms/step - accuracy: 0.9106 - loss: 0.2162 - val_accuracy: 0.9564 - val_loss: 0.1646\n",
      "Epoch 20/20\n",
      "\u001b[1m38/38\u001b[0m \u001b[32m━━━━━━━━━━━━━━━━━━━━\u001b[0m\u001b[37m\u001b[0m \u001b[1m18s\u001b[0m 466ms/step - accuracy: 0.9130 - loss: 0.2205 - val_accuracy: 0.9463 - val_loss: 0.1578\n"
     ]
    }
   ],
   "source": [
    "history = model.fit(datagen.flow(x_train,y_train,batch_size=32),validation_data=(x_test,y_test),epochs=20)\n"
   ]
  },
  {
   "cell_type": "code",
   "execution_count": 13,
   "metadata": {},
   "outputs": [
    {
     "name": "stdout",
     "output_type": "stream",
     "text": [
      "\u001b[1m10/10\u001b[0m \u001b[32m━━━━━━━━━━━━━━━━━━━━\u001b[0m\u001b[37m\u001b[0m \u001b[1m2s\u001b[0m 185ms/step - accuracy: 0.9550 - loss: 0.1543\n",
      "Test Accuracy: 94.63%\n"
     ]
    }
   ],
   "source": [
    "# Evaluate on test data\n",
    "test_loss, test_accuracy = model.evaluate(x_test, y_test)\n",
    "print(f\"Test Accuracy: {test_accuracy * 100:.2f}%\")\n"
   ]
  },
  {
   "cell_type": "code",
   "execution_count": 30,
   "metadata": {},
   "outputs": [],
   "source": [
    "import matplotlib.pyplot as plt"
   ]
  },
  {
   "cell_type": "code",
   "execution_count": 31,
   "metadata": {},
   "outputs": [
    {
     "name": "stdout",
     "output_type": "stream",
     "text": [
      "\u001b[1m10/10\u001b[0m \u001b[32m━━━━━━━━━━━━━━━━━━━━\u001b[0m\u001b[37m\u001b[0m \u001b[1m1s\u001b[0m 50ms/step\n",
      "              precision    recall  f1-score   support\n",
      "\n",
      "      Caries       0.99      0.83      0.90       151\n",
      "  Gingivitis       0.85      0.99      0.92       147\n",
      "\n",
      "    accuracy                           0.91       298\n",
      "   macro avg       0.92      0.91      0.91       298\n",
      "weighted avg       0.92      0.91      0.91       298\n",
      "\n",
      "Confusion Matrix:\n",
      " [[125  26]\n",
      " [  1 146]]\n"
     ]
    },
    {
     "data": {
      "image/png": "[encoded data removed]",
      "text/plain": [
       "<Figure size 640x480 with 2 Axes>"
      ]
     },
     "metadata": {},
     "output_type": "display_data"
    },
    {
     "name": "stdout",
     "output_type": "stream",
     "text": [
      "Confusion matrix plot saved as confusion_matrix.png\n"
     ]
    },
    {
     "data": {
      "text/plain": [
       "<Figure size 640x480 with 0 Axes>"
      ]
     },
     "metadata": {},
     "output_type": "display_data"
    }
   ],
   "source": [
    "\n",
    "# Generate Confusion Matrix\n",
    "y_pred = model.predict(x_test)\n",
    "y_pred_classes = np.argmax(y_pred, axis=1)\n",
    "y_true = np.argmax(y_test, axis=1)\n",
    "\n",
    "print(classification_report(y_true, y_pred_classes, target_names=categories))\n",
    "conf_matrix = confusion_matrix(y_true, y_pred_classes)\n",
    "print(\"Confusion Matrix:\\n\", conf_matrix)\n",
    "\n",
    "# Plot Confusion Matrix\n",
    "import seaborn as sns\n",
    "sns.heatmap(conf_matrix, annot=True, fmt='d', cmap='Blues', xticklabels=categories, yticklabels=categories)\n",
    "plt.xlabel('Predicted')\n",
    "plt.ylabel('True')\n",
    "plt.title('Confusion Matrix')\n",
    "plt.show()\n",
    "plt.savefig(\"confusion_matrix.png\")\n",
    "print(\"Confusion matrix plot saved as confusion_matrix.png\")"
   ]
  },
  {
   "cell_type": "code",
   "execution_count": 19,
   "metadata": {},
   "outputs": [
    {
     "name": "stderr",
     "output_type": "stream",
     "text": [
      "WARNING:absl:You are saving your model as an HDF5 file via `model.save()` or `keras.saving.save_model(model)`. This file format is considered legacy. We recommend using instead the native Keras format, e.g. `model.save('my_model.keras')` or `keras.saving.save_model(model, 'my_model.keras')`. \n"
     ]
    }
   ],
   "source": [
    "model.save(\"oral_disease_model.h5\")\n"
   ]
  },
  {
   "cell_type": "code",
   "execution_count": 20,
   "metadata": {},
   "outputs": [
    {
     "name": "stderr",
     "output_type": "stream",
     "text": [
      "WARNING:absl:Compiled the loaded model, but the compiled metrics have yet to be built. `model.compile_metrics` will be empty until you train or evaluate the model.\n"
     ]
    }
   ],
   "source": [
    "from tensorflow.keras.models import load_model\n",
    "\n",
    "# Load the saved model\n",
    "model = load_model(\"oral_disease_model.h5\")\n"
   ]
  },
  {
   "cell_type": "code",
   "execution_count": 21,
   "metadata": {},
   "outputs": [],
   "source": [
    "import os\n",
    "import cv2\n",
    "import numpy as np\n",
    "\n",
    "# Define image dimensions\n",
    "IMG_HEIGHT, IMG_WIDTH = 128, 128\n",
    "\n",
    "def load_test_data(dataset_dir):\n",
    "    data = []\n",
    "    filenames = []\n",
    "    for category in os.listdir(dataset_dir):\n",
    "        category_path = os.path.join(dataset_dir, category)\n",
    "        for img_name in os.listdir(category_path):\n",
    "            img_path = os.path.join(category_path, img_name)\n",
    "            try:\n",
    "                # Load and resize image\n",
    "                image = cv2.imread(img_path)\n",
    "                image = cv2.resize(image, (IMG_HEIGHT, IMG_WIDTH))\n",
    "                data.append(image)\n",
    "                filenames.append(img_name)\n",
    "            except Exception as e:\n",
    "                print(f\"Error loading image {img_path}: {e}\")\n",
    "    return np.array(data), filenames\n",
    "\n",
    "# Load the test dataset (folder containing images of Caries and Gingivitis)\n",
    "test_dir = \"data/TEST\"\n",
    "test_data, test_filenames = load_test_data(test_dir)\n",
    "\n",
    "# Normalize the images (scale pixel values to [0, 1])\n",
    "test_data = test_data / 255.0\n"
   ]
  },
  {
   "cell_type": "code",
   "execution_count": 22,
   "metadata": {},
   "outputs": [
    {
     "name": "stdout",
     "output_type": "stream",
     "text": [
      "\u001b[1m13/13\u001b[0m \u001b[32m━━━━━━━━━━━━━━━━━━━━\u001b[0m\u001b[37m\u001b[0m \u001b[1m2s\u001b[0m 114ms/step\n"
     ]
    }
   ],
   "source": [
    "# Predict the classes for the test images\n",
    "predictions = model.predict(test_data)\n",
    "\n",
    "# Convert predictions to class labels (0 for Caries, 1 for Gingivitis)\n",
    "predicted_labels = np.argmax(predictions, axis=1)\n"
   ]
  },
  {
   "cell_type": "code",
   "execution_count": 23,
   "metadata": {},
   "outputs": [
    {
     "name": "stdout",
     "output_type": "stream",
     "text": [
      "Image: 196_2.jpg, Predicted Class: Gingivitis\n",
      "Image: 197_1.jpg, Predicted Class: Caries\n",
      "Image: 198_2.jpg, Predicted Class: Caries\n",
      "Image: 199_2.jpg, Predicted Class: Caries\n",
      "Image: 200_2.jpg, Predicted Class: Gingivitis\n",
      "Image: 201_2.jpg, Predicted Class: Caries\n",
      "Image: 202_2.jpg, Predicted Class: Caries\n",
      "Image: 203_2.jpg, Predicted Class: Caries\n",
      "Image: 204_2.jpg, Predicted Class: Caries\n",
      "Image: 205_2.jpg, Predicted Class: Caries\n",
      "Image: 206_2.jpg, Predicted Class: Gingivitis\n",
      "Image: 206_6.jpg, Predicted Class: Gingivitis\n",
      "Image: 207_2.jpg, Predicted Class: Caries\n",
      "Image: 208_2.jpg, Predicted Class: Caries\n",
      "Image: 209_2.jpg, Predicted Class: Caries\n",
      "Image: 210_2.jpg, Predicted Class: Caries\n",
      "Image: 210_6.jpg, Predicted Class: Caries\n",
      "Image: 211_2.jpg, Predicted Class: Caries\n",
      "Image: 211_6.jpg, Predicted Class: Caries\n",
      "Image: 212_2.jpg, Predicted Class: Caries\n",
      "Image: 213_2.jpg, Predicted Class: Caries\n",
      "Image: 214_2.jpg, Predicted Class: Caries\n",
      "Image: 215_2.jpg, Predicted Class: Caries\n",
      "Image: 216_2.jpg, Predicted Class: Gingivitis\n",
      "Image: 217_2.jpg, Predicted Class: Caries\n",
      "Image: 218_1.jpg, Predicted Class: Caries\n",
      "Image: 218_5.jpg, Predicted Class: Caries\n",
      "Image: 628_3.jpg, Predicted Class: Caries\n",
      "Image: 632_3.jpg, Predicted Class: Gingivitis\n",
      "Image: 634_3.jpg, Predicted Class: Caries\n",
      "Image: 635_4.jpg, Predicted Class: Gingivitis\n",
      "Image: 636_3.jpg, Predicted Class: Gingivitis\n",
      "Image: 637_3.jpg, Predicted Class: Gingivitis\n",
      "Image: 638_4.jpg, Predicted Class: Caries\n",
      "Image: 640_3.jpg, Predicted Class: Caries\n",
      "Image: caries_0_17.jpg, Predicted Class: Caries\n",
      "Image: caries_0_17_1.jpg, Predicted Class: Caries\n",
      "Image: caries_0_22.jpg, Predicted Class: Caries\n",
      "Image: caries_0_22_1.jpg, Predicted Class: Caries\n",
      "Image: caries_0_23.jpg, Predicted Class: Caries\n",
      "Image: caries_0_2498.jpg, Predicted Class: Caries\n",
      "Image: caries_0_25.jpg, Predicted Class: Caries\n",
      "Image: caries_0_2500.jpg, Predicted Class: Caries\n",
      "Image: caries_0_2501.jpg, Predicted Class: Caries\n",
      "Image: caries_0_2502.jpg, Predicted Class: Caries\n",
      "Image: caries_0_2510.jpg, Predicted Class: Gingivitis\n",
      "Image: caries_0_2514.jpg, Predicted Class: Gingivitis\n",
      "Image: caries_0_2522.jpg, Predicted Class: Gingivitis\n",
      "Image: caries_0_2524.jpg, Predicted Class: Caries\n",
      "Image: caries_0_2530.jpg, Predicted Class: Caries\n",
      "Image: caries_0_2531.jpg, Predicted Class: Caries\n",
      "Image: caries_0_2549.jpg, Predicted Class: Caries\n",
      "Image: caries_0_2556.jpg, Predicted Class: Caries\n",
      "Image: caries_0_2558.jpg, Predicted Class: Caries\n",
      "Image: caries_0_2565.jpg, Predicted Class: Caries\n",
      "Image: caries_0_2566.jpg, Predicted Class: Caries\n",
      "Image: caries_0_2568.jpg, Predicted Class: Caries\n",
      "Image: caries_0_2569.jpg, Predicted Class: Caries\n",
      "Image: caries_0_2570.jpg, Predicted Class: Caries\n",
      "Image: caries_0_2574.jpg, Predicted Class: Caries\n",
      "Image: caries_0_2578.jpg, Predicted Class: Caries\n",
      "Image: caries_0_25_1.jpg, Predicted Class: Caries\n",
      "Image: caries_0_27.jpg, Predicted Class: Caries\n",
      "Image: caries_0_27_1.jpg, Predicted Class: Caries\n",
      "Image: caries_0_2873.jpg, Predicted Class: Caries\n",
      "Image: caries_0_2882.jpg, Predicted Class: Caries\n",
      "Image: caries_0_2883.jpg, Predicted Class: Caries\n",
      "Image: caries_0_2892.jpg, Predicted Class: Caries\n",
      "Image: caries_0_2893.jpg, Predicted Class: Caries\n",
      "Image: caries_0_29.jpg, Predicted Class: Caries\n",
      "Image: caries_0_2909.jpg, Predicted Class: Caries\n",
      "Image: caries_0_2916.jpg, Predicted Class: Caries\n",
      "Image: caries_0_2918.jpg, Predicted Class: Caries\n",
      "Image: caries_0_2920.jpg, Predicted Class: Caries\n",
      "Image: caries_0_2932.jpg, Predicted Class: Caries\n",
      "Image: caries_0_2933.jpg, Predicted Class: Caries\n",
      "Image: caries_0_2937.jpg, Predicted Class: Caries\n",
      "Image: caries_0_2938.jpg, Predicted Class: Gingivitis\n",
      "Image: caries_0_2942.jpg, Predicted Class: Caries\n",
      "Image: caries_0_2944.jpg, Predicted Class: Caries\n",
      "Image: caries_0_2945.jpg, Predicted Class: Caries\n",
      "Image: caries_0_2951.jpg, Predicted Class: Gingivitis\n",
      "Image: caries_0_2961.jpg, Predicted Class: Gingivitis\n",
      "Image: caries_0_2966.jpg, Predicted Class: Caries\n",
      "Image: caries_0_2970.jpg, Predicted Class: Caries\n",
      "Image: caries_0_2971.jpg, Predicted Class: Gingivitis\n",
      "Image: caries_0_2980.jpg, Predicted Class: Gingivitis\n",
      "Image: caries_0_2991.jpg, Predicted Class: Caries\n",
      "Image: caries_0_2993.jpg, Predicted Class: Caries\n",
      "Image: caries_0_2994.jpg, Predicted Class: Caries\n",
      "Image: caries_0_3000.jpg, Predicted Class: Caries\n",
      "Image: caries_0_3001.jpg, Predicted Class: Caries\n",
      "Image: caries_0_3007.jpg, Predicted Class: Caries\n",
      "Image: caries_0_3012.jpg, Predicted Class: Caries\n",
      "Image: caries_0_3026.jpg, Predicted Class: Caries\n",
      "Image: caries_0_3029.jpg, Predicted Class: Caries\n",
      "Image: caries_0_3035.jpg, Predicted Class: Gingivitis\n",
      "Image: caries_0_3036.jpg, Predicted Class: Caries\n",
      "Image: caries_0_3040.jpg, Predicted Class: Caries\n",
      "Image: caries_0_3043.jpg, Predicted Class: Caries\n",
      "Image: caries_0_3055.jpg, Predicted Class: Caries\n",
      "Image: caries_0_3058.jpg, Predicted Class: Caries\n",
      "Image: caries_0_3072.jpg, Predicted Class: Caries\n",
      "Image: caries_0_3073.jpg, Predicted Class: Caries\n",
      "Image: caries_0_3084.jpg, Predicted Class: Caries\n",
      "Image: caries_0_3085.jpg, Predicted Class: Caries\n",
      "Image: caries_0_3091.jpg, Predicted Class: Caries\n",
      "Image: caries_0_3096.jpg, Predicted Class: Caries\n",
      "Image: caries_0_3098.jpg, Predicted Class: Caries\n",
      "Image: caries_0_31.jpg, Predicted Class: Caries\n",
      "Image: caries_0_3108.jpg, Predicted Class: Caries\n",
      "Image: caries_0_3109.jpg, Predicted Class: Gingivitis\n",
      "Image: caries_0_3117.jpg, Predicted Class: Caries\n",
      "Image: caries_0_3123.jpg, Predicted Class: Caries\n",
      "Image: caries_0_3129.jpg, Predicted Class: Caries\n",
      "Image: caries_0_3142.jpg, Predicted Class: Caries\n",
      "Image: caries_0_3156.jpg, Predicted Class: Caries\n",
      "Image: caries_0_3171.jpg, Predicted Class: Caries\n",
      "Image: caries_0_3181.jpg, Predicted Class: Caries\n",
      "Image: caries_0_3184.jpg, Predicted Class: Caries\n",
      "Image: caries_0_3188.jpg, Predicted Class: Caries\n",
      "Image: caries_0_3197.jpg, Predicted Class: Caries\n",
      "Image: caries_0_3205.jpg, Predicted Class: Caries\n",
      "Image: caries_0_3207.jpg, Predicted Class: Caries\n",
      "Image: caries_0_3209.jpg, Predicted Class: Gingivitis\n",
      "Image: caries_0_3211.jpg, Predicted Class: Caries\n",
      "Image: caries_0_3216.jpg, Predicted Class: Caries\n",
      "Image: caries_0_3217.jpg, Predicted Class: Caries\n",
      "Image: caries_0_3223.jpg, Predicted Class: Caries\n",
      "Image: caries_0_3229.jpg, Predicted Class: Gingivitis\n",
      "Image: caries_0_3236.jpg, Predicted Class: Caries\n",
      "Image: caries_0_3238.jpg, Predicted Class: Caries\n",
      "Image: caries_0_3239.jpg, Predicted Class: Caries\n",
      "Image: caries_0_3246.jpg, Predicted Class: Caries\n",
      "Image: caries_0_3249.jpg, Predicted Class: Caries\n",
      "Image: caries_0_3253.jpg, Predicted Class: Caries\n",
      "Image: caries_0_3253_1.jpg, Predicted Class: Caries\n",
      "Image: caries_0_3254.jpg, Predicted Class: Caries\n",
      "Image: caries_0_3255.jpg, Predicted Class: Caries\n",
      "Image: caries_0_3260.jpg, Predicted Class: Caries\n",
      "Image: caries_0_3260_1.jpg, Predicted Class: Caries\n",
      "Image: caries_0_3263.jpg, Predicted Class: Caries\n",
      "Image: caries_0_3272.jpg, Predicted Class: Caries\n",
      "Image: caries_0_3272_1.jpg, Predicted Class: Caries\n",
      "Image: caries_0_3274.jpg, Predicted Class: Caries\n",
      "Image: caries_0_3280.jpg, Predicted Class: Caries\n",
      "Image: caries_0_3282.jpg, Predicted Class: Caries\n",
      "Image: caries_0_3282_1.jpg, Predicted Class: Caries\n",
      "Image: caries_0_3284.jpg, Predicted Class: Caries\n",
      "Image: caries_0_3284_1.jpg, Predicted Class: Caries\n",
      "Image: caries_0_3292.jpg, Predicted Class: Caries\n",
      "Image: caries_0_3292_1.jpg, Predicted Class: Caries\n",
      "Image: caries_0_3299.jpg, Predicted Class: Caries\n",
      "Image: caries_0_3300.jpg, Predicted Class: Caries\n",
      "Image: caries_0_3300_1.jpg, Predicted Class: Caries\n",
      "Image: caries_0_3302.jpg, Predicted Class: Caries\n",
      "Image: caries_0_3305.jpg, Predicted Class: Caries\n",
      "Image: caries_0_3307.jpg, Predicted Class: Gingivitis\n",
      "Image: caries_0_3316.jpg, Predicted Class: Caries\n",
      "Image: caries_0_3318.jpg, Predicted Class: Caries\n",
      "Image: caries_0_3322.jpg, Predicted Class: Caries\n",
      "Image: caries_0_3323.jpg, Predicted Class: Caries\n",
      "Image: caries_0_3329.jpg, Predicted Class: Caries\n",
      "Image: caries_0_3334.jpg, Predicted Class: Caries\n",
      "Image: caries_0_3341.jpg, Predicted Class: Caries\n",
      "Image: caries_0_3341_1.jpg, Predicted Class: Caries\n",
      "Image: caries_0_3345.jpg, Predicted Class: Caries\n",
      "Image: caries_0_3345_1.jpg, Predicted Class: Caries\n",
      "Image: caries_0_3348.jpg, Predicted Class: Gingivitis\n",
      "Image: caries_0_3348_1.jpg, Predicted Class: Gingivitis\n",
      "Image: caries_0_3349.jpg, Predicted Class: Caries\n",
      "Image: caries_0_3358.jpg, Predicted Class: Caries\n",
      "Image: caries_0_3360.jpg, Predicted Class: Caries\n",
      "Image: caries_0_3363.jpg, Predicted Class: Caries\n",
      "Image: caries_0_3363_1.jpg, Predicted Class: Caries\n",
      "Image: caries_0_3366.jpg, Predicted Class: Caries\n",
      "Image: caries_0_3366_1.jpg, Predicted Class: Caries\n",
      "Image: caries_0_3372.jpg, Predicted Class: Caries\n",
      "Image: caries_0_3374.jpg, Predicted Class: Caries\n",
      "Image: caries_0_3381.jpg, Predicted Class: Caries\n",
      "Image: caries_0_3382.jpg, Predicted Class: Caries\n",
      "Image: caries_0_3390.jpg, Predicted Class: Caries\n",
      "Image: caries_0_3395.jpg, Predicted Class: Caries\n",
      "Image: caries_0_3396.jpg, Predicted Class: Caries\n",
      "Image: caries_0_3396_1.jpg, Predicted Class: Caries\n",
      "Image: caries_0_3405.jpg, Predicted Class: Caries\n",
      "Image: caries_0_3405_1.jpg, Predicted Class: Caries\n",
      "Image: caries_0_3409.jpg, Predicted Class: Caries\n",
      "Image: caries_0_3409_1.jpg, Predicted Class: Caries\n",
      "Image: caries_0_3413.jpg, Predicted Class: Caries\n",
      "Image: caries_0_3413_1.jpg, Predicted Class: Caries\n",
      "Image: caries_0_3414.jpg, Predicted Class: Caries\n",
      "Image: caries_0_3420.jpg, Predicted Class: Gingivitis\n",
      "Image: caries_0_3420_1.jpg, Predicted Class: Gingivitis\n",
      "Image: caries_0_3422.jpg, Predicted Class: Caries\n",
      "Image: caries_0_3424.jpg, Predicted Class: Caries\n",
      "Image: caries_0_3426.jpg, Predicted Class: Caries\n",
      "Image: caries_0_3426_1.jpg, Predicted Class: Caries\n",
      "Image: caries_0_3427.jpg, Predicted Class: Caries\n",
      "Image: caries_0_3430.jpg, Predicted Class: Caries\n",
      "Image: caries_0_3441.jpg, Predicted Class: Caries\n",
      "Image: caries_0_3446.jpg, Predicted Class: Caries\n",
      "Image: caries_0_7.jpg, Predicted Class: Caries\n",
      "Image: caries_0_7_1.jpg, Predicted Class: Caries\n",
      "Image: 101_1.jpg, Predicted Class: Caries\n",
      "Image: 105_1.jpg, Predicted Class: Gingivitis\n",
      "Image: 109_1.jpg, Predicted Class: Gingivitis\n",
      "Image: 113_1.jpg, Predicted Class: Gingivitis\n",
      "Image: 117_1.jpg, Predicted Class: Gingivitis\n",
      "Image: 11_1.jpg, Predicted Class: Gingivitis\n",
      "Image: 121_1.jpg, Predicted Class: Gingivitis\n",
      "Image: 125_1.jpg, Predicted Class: Gingivitis\n",
      "Image: 129_1.jpg, Predicted Class: Gingivitis\n",
      "Image: 133_1.jpg, Predicted Class: Gingivitis\n",
      "Image: 137_1.jpg, Predicted Class: Gingivitis\n",
      "Image: 141_1.jpg, Predicted Class: Caries\n",
      "Image: 144.jpg, Predicted Class: Gingivitis\n",
      "Image: 148_1.jpg, Predicted Class: Gingivitis\n",
      "Image: 151_1.jpg, Predicted Class: Caries\n",
      "Image: 153.jpg, Predicted Class: Gingivitis\n",
      "Image: 155_1.jpg, Predicted Class: Gingivitis\n",
      "Image: 157_1.jpg, Predicted Class: Gingivitis\n",
      "Image: 15_1.jpg, Predicted Class: Gingivitis\n",
      "Image: 160_1.jpg, Predicted Class: Gingivitis\n",
      "Image: 162_1.jpg, Predicted Class: Gingivitis\n",
      "Image: 165_1.jpg, Predicted Class: Gingivitis\n",
      "Image: 169.jpg, Predicted Class: Gingivitis\n",
      "Image: 173_1.jpg, Predicted Class: Gingivitis\n",
      "Image: 177_1.jpg, Predicted Class: Gingivitis\n",
      "Image: 181_1.jpg, Predicted Class: Gingivitis\n",
      "Image: 185_1.jpg, Predicted Class: Gingivitis\n",
      "Image: 189_1.jpg, Predicted Class: Gingivitis\n",
      "Image: 18_1.jpg, Predicted Class: Gingivitis\n",
      "Image: 193.jpg, Predicted Class: Caries\n",
      "Image: 197.jpg, Predicted Class: Caries\n",
      "Image: 201_1.jpg, Predicted Class: Gingivitis\n",
      "Image: 205_1.jpg, Predicted Class: Caries\n",
      "Image: 209_1.jpg, Predicted Class: Caries\n",
      "Image: 213_1.jpg, Predicted Class: Gingivitis\n",
      "Image: 217_1.jpg, Predicted Class: Gingivitis\n",
      "Image: 221_1.jpg, Predicted Class: Gingivitis\n",
      "Image: 225_1.jpg, Predicted Class: Gingivitis\n",
      "Image: 229_1.jpg, Predicted Class: Gingivitis\n",
      "Image: 22_1.jpg, Predicted Class: Gingivitis\n",
      "Image: 233_1.jpg, Predicted Class: Gingivitis\n",
      "Image: 237_1.jpg, Predicted Class: Gingivitis\n",
      "Image: 241_1.jpg, Predicted Class: Gingivitis\n",
      "Image: 245_1.jpg, Predicted Class: Gingivitis\n",
      "Image: 249_1.jpg, Predicted Class: Gingivitis\n",
      "Image: 25.jpg, Predicted Class: Gingivitis\n",
      "Image: 253_1.jpg, Predicted Class: Gingivitis\n",
      "Image: 257_1.jpg, Predicted Class: Gingivitis\n",
      "Image: 261.jpg, Predicted Class: Gingivitis\n",
      "Image: 265_1.jpg, Predicted Class: Gingivitis\n",
      "Image: 269_1.jpg, Predicted Class: Gingivitis\n",
      "Image: 273_1.jpg, Predicted Class: Gingivitis\n",
      "Image: 277_1.jpg, Predicted Class: Gingivitis\n",
      "Image: 27_1.jpg, Predicted Class: Gingivitis\n",
      "Image: 282_1.jpg, Predicted Class: Gingivitis\n",
      "Image: 286_1.jpg, Predicted Class: Gingivitis\n",
      "Image: 290_1.jpg, Predicted Class: Gingivitis\n",
      "Image: 294_1.jpg, Predicted Class: Gingivitis\n",
      "Image: 298_1.jpg, Predicted Class: Gingivitis\n",
      "Image: 29_6.jpg, Predicted Class: Gingivitis\n",
      "Image: 2_1.jpg, Predicted Class: Gingivitis\n",
      "Image: 302_1.jpg, Predicted Class: Gingivitis\n",
      "Image: 306_1.jpg, Predicted Class: Gingivitis\n",
      "Image: 310_1.jpg, Predicted Class: Gingivitis\n",
      "Image: 314_1.jpg, Predicted Class: Gingivitis\n",
      "Image: 318.jpg, Predicted Class: Gingivitis\n",
      "Image: 31_5.jpg, Predicted Class: Gingivitis\n",
      "Image: 322_1.jpg, Predicted Class: Gingivitis\n",
      "Image: 326.jpg, Predicted Class: Gingivitis\n",
      "Image: 331_1.jpg, Predicted Class: Gingivitis\n",
      "Image: 336_1.jpg, Predicted Class: Gingivitis\n",
      "Image: 33_6.jpg, Predicted Class: Gingivitis\n",
      "Image: 340.jpg, Predicted Class: Gingivitis\n",
      "Image: 344_1.jpg, Predicted Class: Gingivitis\n",
      "Image: 348_1.jpg, Predicted Class: Gingivitis\n",
      "Image: 354_1.jpg, Predicted Class: Gingivitis\n",
      "Image: 358_1.jpg, Predicted Class: Gingivitis\n",
      "Image: 35_6.jpg, Predicted Class: Gingivitis\n",
      "Image: 362.jpg, Predicted Class: Gingivitis\n",
      "Image: 366_1.jpg, Predicted Class: Gingivitis\n",
      "Image: 370_1.jpg, Predicted Class: Gingivitis\n",
      "Image: 374_1.jpg, Predicted Class: Gingivitis\n",
      "Image: 378_1.jpg, Predicted Class: Gingivitis\n",
      "Image: 37_5.jpg, Predicted Class: Gingivitis\n",
      "Image: 382_1.jpg, Predicted Class: Gingivitis\n",
      "Image: 386_1.jpg, Predicted Class: Gingivitis\n",
      "Image: 390_1.jpg, Predicted Class: Gingivitis\n",
      "Image: 394.jpg, Predicted Class: Gingivitis\n",
      "Image: 398_1.jpg, Predicted Class: Gingivitis\n",
      "Image: 40.jpg, Predicted Class: Gingivitis\n",
      "Image: 402_1.jpg, Predicted Class: Gingivitis\n",
      "Image: 406_1.jpg, Predicted Class: Gingivitis\n",
      "Image: 410_1.jpg, Predicted Class: Gingivitis\n",
      "Image: 414_1.jpg, Predicted Class: Gingivitis\n",
      "Image: 418_1.jpg, Predicted Class: Gingivitis\n",
      "Image: 422_1.jpg, Predicted Class: Gingivitis\n",
      "Image: 426_1.jpg, Predicted Class: Gingivitis\n",
      "Image: 42_1.jpg, Predicted Class: Gingivitis\n",
      "Image: 430_1.jpg, Predicted Class: Gingivitis\n",
      "Image: 434_1.jpg, Predicted Class: Gingivitis\n",
      "Image: 438_1.jpg, Predicted Class: Gingivitis\n",
      "Image: 44.jpg, Predicted Class: Gingivitis\n",
      "Image: 442_1.jpg, Predicted Class: Gingivitis\n",
      "Image: 446_1.jpg, Predicted Class: Gingivitis\n",
      "Image: 450_1.jpg, Predicted Class: Gingivitis\n",
      "Image: 454_1.jpg, Predicted Class: Gingivitis\n",
      "Image: 458_1.jpg, Predicted Class: Gingivitis\n",
      "Image: 462.jpg, Predicted Class: Gingivitis\n",
      "Image: 466_1.jpg, Predicted Class: Gingivitis\n",
      "Image: 46_1.jpg, Predicted Class: Gingivitis\n",
      "Image: 470.jpg, Predicted Class: Gingivitis\n",
      "Image: 474_1.jpg, Predicted Class: Gingivitis\n",
      "Image: 478_1.jpg, Predicted Class: Gingivitis\n",
      "Image: 482_1.jpg, Predicted Class: Gingivitis\n",
      "Image: 486_1.jpg, Predicted Class: Gingivitis\n",
      "Image: 48_6.jpg, Predicted Class: Gingivitis\n",
      "Image: 490_1.jpg, Predicted Class: Gingivitis\n",
      "Image: 494_1.jpg, Predicted Class: Gingivitis\n",
      "Image: 498_1.jpg, Predicted Class: Gingivitis\n",
      "Image: 4_6.jpg, Predicted Class: Gingivitis\n",
      "Image: 502_1.jpg, Predicted Class: Gingivitis\n",
      "Image: 506_1.jpg, Predicted Class: Gingivitis\n",
      "Image: 50_6.jpg, Predicted Class: Gingivitis\n",
      "Image: 510_1.jpg, Predicted Class: Gingivitis\n",
      "Image: 514_1.jpg, Predicted Class: Gingivitis\n",
      "Image: 518_1.jpg, Predicted Class: Gingivitis\n",
      "Image: 522_1.jpg, Predicted Class: Gingivitis\n",
      "Image: 526_1.jpg, Predicted Class: Gingivitis\n",
      "Image: 52_6.jpg, Predicted Class: Gingivitis\n",
      "Image: 530_1.jpg, Predicted Class: Gingivitis\n",
      "Image: 535.jpg, Predicted Class: Gingivitis\n",
      "Image: 540_1.jpg, Predicted Class: Gingivitis\n",
      "Image: 544_1.jpg, Predicted Class: Gingivitis\n",
      "Image: 548_1.jpg, Predicted Class: Gingivitis\n",
      "Image: 54_5.jpg, Predicted Class: Gingivitis\n",
      "Image: 552_1.jpg, Predicted Class: Gingivitis\n",
      "Image: 556_1.jpg, Predicted Class: Gingivitis\n",
      "Image: 560.jpg, Predicted Class: Gingivitis\n",
      "Image: 564_1.jpg, Predicted Class: Gingivitis\n",
      "Image: 568_1.jpg, Predicted Class: Gingivitis\n",
      "Image: 56_6.jpg, Predicted Class: Gingivitis\n",
      "Image: 572_1.jpg, Predicted Class: Gingivitis\n",
      "Image: 576_1.jpg, Predicted Class: Gingivitis\n",
      "Image: 580_1.jpg, Predicted Class: Gingivitis\n",
      "Image: 584_1.jpg, Predicted Class: Gingivitis\n",
      "Image: 588_1.jpg, Predicted Class: Gingivitis\n",
      "Image: 58_6.jpg, Predicted Class: Gingivitis\n",
      "Image: 594_1.jpg, Predicted Class: Gingivitis\n",
      "Image: 598_1.jpg, Predicted Class: Gingivitis\n",
      "Image: 602_1.jpg, Predicted Class: Gingivitis\n",
      "Image: 606.jpg, Predicted Class: Gingivitis\n",
      "Image: 60_5.jpg, Predicted Class: Gingivitis\n",
      "Image: 612_1.jpg, Predicted Class: Gingivitis\n",
      "Image: 616.jpg, Predicted Class: Gingivitis\n",
      "Image: 620.jpg, Predicted Class: Gingivitis\n",
      "Image: 624_1.jpg, Predicted Class: Gingivitis\n",
      "Image: 628_1.jpg, Predicted Class: Gingivitis\n",
      "Image: 62_6.jpg, Predicted Class: Gingivitis\n",
      "Image: 632_1.jpg, Predicted Class: Gingivitis\n",
      "Image: 636_1.jpg, Predicted Class: Gingivitis\n",
      "Image: 640_1.jpg, Predicted Class: Gingivitis\n",
      "Image: 644_1.jpg, Predicted Class: Gingivitis\n",
      "Image: 648_1.jpg, Predicted Class: Gingivitis\n",
      "Image: 652_1.jpg, Predicted Class: Gingivitis\n",
      "Image: 656_1.jpg, Predicted Class: Gingivitis\n",
      "Image: 65_5.jpg, Predicted Class: Caries\n",
      "Image: 660_1.jpg, Predicted Class: Gingivitis\n",
      "Image: 664_1.jpg, Predicted Class: Gingivitis\n",
      "Image: 668_1.jpg, Predicted Class: Gingivitis\n",
      "Image: 672_1.jpg, Predicted Class: Gingivitis\n",
      "Image: 676_1.jpg, Predicted Class: Gingivitis\n",
      "Image: 67_6.jpg, Predicted Class: Gingivitis\n",
      "Image: 680_1.jpg, Predicted Class: Gingivitis\n",
      "Image: 684_1.jpg, Predicted Class: Gingivitis\n",
      "Image: 688_1.jpg, Predicted Class: Gingivitis\n",
      "Image: 692_1.jpg, Predicted Class: Gingivitis\n",
      "Image: 696.jpg, Predicted Class: Gingivitis\n",
      "Image: 6_6.jpg, Predicted Class: Gingivitis\n",
      "Image: 700_1.jpg, Predicted Class: Gingivitis\n",
      "Image: 704.jpg, Predicted Class: Gingivitis\n",
      "Image: 709_1.jpg, Predicted Class: Gingivitis\n",
      "Image: 713_1.jpg, Predicted Class: Gingivitis\n",
      "Image: 717_1.jpg, Predicted Class: Gingivitis\n",
      "Image: 71_1.jpg, Predicted Class: Gingivitis\n",
      "Image: 721_1.jpg, Predicted Class: Gingivitis\n",
      "Image: 725.jpg, Predicted Class: Gingivitis\n",
      "Image: 729.jpg, Predicted Class: Gingivitis\n",
      "Image: 733_1.jpg, Predicted Class: Gingivitis\n",
      "Image: 737_1.jpg, Predicted Class: Gingivitis\n",
      "Image: 741_1.jpg, Predicted Class: Gingivitis\n",
      "Image: 745.jpg, Predicted Class: Gingivitis\n",
      "Image: 74_1.jpg, Predicted Class: Gingivitis\n",
      "Image: 77_1.jpg, Predicted Class: Gingivitis\n",
      "Image: 79_1.jpg, Predicted Class: Gingivitis\n",
      "Image: 81_1.jpg, Predicted Class: Gingivitis\n",
      "Image: 83.jpg, Predicted Class: Gingivitis\n",
      "Image: 85_1.jpg, Predicted Class: Gingivitis\n",
      "Image: 87_1.jpg, Predicted Class: Gingivitis\n",
      "Image: 89_1.jpg, Predicted Class: Gingivitis\n",
      "Image: 8_5.jpg, Predicted Class: Gingivitis\n",
      "Image: 91_1.jpg, Predicted Class: Gingivitis\n",
      "Image: 94_1.jpg, Predicted Class: Gingivitis\n",
      "Image: 96_1.jpg, Predicted Class: Gingivitis\n",
      "Image: 98_6.jpg, Predicted Class: Gingivitis\n"
     ]
    }
   ],
   "source": [
    "# Display predictions for each image\n",
    "for filename, label in zip(test_filenames, predicted_labels):\n",
    "    if label == 0:\n",
    "        predicted_class = \"Caries\"\n",
    "    else:\n",
    "        predicted_class = \"Gingivitis\"\n",
    "    print(f\"Image: {filename}, Predicted Class: {predicted_class}\")\n"
   ]
  },
  {
   "cell_type": "code",
   "execution_count": 28,
   "metadata": {},
   "outputs": [
    {
     "name": "stderr",
     "output_type": "stream",
     "text": [
      "WARNING:absl:Compiled the loaded model, but the compiled metrics have yet to be built. `model.compile_metrics` will be empty until you train or evaluate the model.\n"
     ]
    },
    {
     "name": "stdout",
     "output_type": "stream",
     "text": [
      "\u001b[1m1/1\u001b[0m \u001b[32m━━━━━━━━━━━━━━━━━━━━\u001b[0m\u001b[37m\u001b[0m \u001b[1m0s\u001b[0m 277ms/step\n",
      "Predicted class: Gingivitis\n"
     ]
    }
   ],
   "source": [
    "from tensorflow.keras.models import load_model\n",
    "\n",
    "# Load the model\n",
    "model = load_model(\"E:\\OralDisease\\oral_disease_model.h5\")\n",
    "img_path = r\"E:\\OralDisease\\data\\TEST\\Gingivitis\\680_1.jpg\"\n",
    "\n",
    "# Test a single image\n",
    "def predict_image(img_path):\n",
    "    img = cv2.imread(img_path)\n",
    "    img = cv2.resize(img, (IMG_HEIGHT, IMG_WIDTH))\n",
    "    img = img / 255.0\n",
    "    img = np.expand_dims(img, axis=0)  # Add batch dimension\n",
    "    prediction = model.predict(img)\n",
    "    class_idx = np.argmax(prediction)\n",
    "    print(f\"Predicted class: {categories[class_idx]}\")\n",
    "\n",
    "predict_image(img_path)\n"
   ]
  }
 ],
 "metadata": {
  "kernelspec": {
   "display_name": "oenv",
   "language": "python",
   "name": "python3"
  },
  "language_info": {
   "codemirror_mode": {
    "name": "ipython",
    "version": 3
   },
   "file_extension": ".py",
   "mimetype": "text/x-python",
   "name": "python",
   "nbconvert_exporter": "python",
   "pygments_lexer": "ipython3",
   "version": "3.11.7"
  }
 },
 "nbformat": 4,
 "nbformat_minor": 2
}
